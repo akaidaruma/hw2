{
 "cells": [
  {
   "cell_type": "code",
   "execution_count": 19,
   "metadata": {},
   "outputs": [
    {
     "name": "stdout",
     "output_type": "stream",
     "text": [
      "usage: python /Users/nannananna09/work/arihon/lib/python3.6/site-packages/ipykernel_launcher.py N\n"
     ]
    },
    {
     "ename": "ValueError",
     "evalue": "invalid literal for int() with base 10: '-f'",
     "output_type": "error",
     "traceback": [
      "\u001b[0;31m---------------------------------------------------------------------------\u001b[0m",
      "\u001b[0;31mValueError\u001b[0m                                Traceback (most recent call last)",
      "\u001b[0;32m<ipython-input-19-152db5559671>\u001b[0m in \u001b[0;36m<module>\u001b[0;34m\u001b[0m\n\u001b[1;32m      5\u001b[0m     \u001b[0mquit\u001b[0m\u001b[0;34m(\u001b[0m\u001b[0;34m)\u001b[0m\u001b[0;34m\u001b[0m\u001b[0m\n\u001b[1;32m      6\u001b[0m \u001b[0;34m\u001b[0m\u001b[0m\n\u001b[0;32m----> 7\u001b[0;31m \u001b[0mn\u001b[0m \u001b[0;34m=\u001b[0m \u001b[0mint\u001b[0m\u001b[0;34m(\u001b[0m\u001b[0msys\u001b[0m\u001b[0;34m.\u001b[0m\u001b[0margv\u001b[0m\u001b[0;34m[\u001b[0m\u001b[0;36m1\u001b[0m\u001b[0;34m]\u001b[0m\u001b[0;34m)\u001b[0m\u001b[0;34m\u001b[0m\u001b[0m\n\u001b[0m\u001b[1;32m      8\u001b[0m \u001b[0ma\u001b[0m \u001b[0;34m=\u001b[0m \u001b[0mnumpy\u001b[0m\u001b[0;34m.\u001b[0m\u001b[0mzeros\u001b[0m\u001b[0;34m(\u001b[0m\u001b[0;34m(\u001b[0m\u001b[0mn\u001b[0m\u001b[0;34m,\u001b[0m \u001b[0mn\u001b[0m\u001b[0;34m)\u001b[0m\u001b[0;34m)\u001b[0m \u001b[0;31m# Matrix A\u001b[0m\u001b[0;34m\u001b[0m\u001b[0m\n\u001b[1;32m      9\u001b[0m \u001b[0mb\u001b[0m \u001b[0;34m=\u001b[0m \u001b[0mnumpy\u001b[0m\u001b[0;34m.\u001b[0m\u001b[0mzeros\u001b[0m\u001b[0;34m(\u001b[0m\u001b[0;34m(\u001b[0m\u001b[0mn\u001b[0m\u001b[0;34m,\u001b[0m \u001b[0mn\u001b[0m\u001b[0;34m)\u001b[0m\u001b[0;34m)\u001b[0m \u001b[0;31m# Matrix B\u001b[0m\u001b[0;34m\u001b[0m\u001b[0m\n",
      "\u001b[0;31mValueError\u001b[0m: invalid literal for int() with base 10: '-f'"
     ]
    }
   ],
   "source": [
    "import numpy, sys, time\n",
    "\n",
    "if (len(sys.argv) != 2):\n",
    "    print(\"usage: python %s N\" % sys.argv[0])\n",
    "    quit()\n",
    "\n",
    "n = int(sys.argv[1])\n",
    "a = numpy.zeros((n, n)) # Matrix A\n",
    "b = numpy.zeros((n, n)) # Matrix B\n",
    "c = numpy.zeros((n, n)) # Matrix C\n",
    "\n",
    "# Initialize the matrices to some values.\n",
    "for i in range(n):\n",
    "    for j in range(n):\n",
    "        a[i, j] = i * n + j\n",
    "        b[i, j] = j * n + i\n",
    "        c[i, j] = 0\n",
    "\n",
    "begin = time.time()\n",
    "\n",
    "######################################################\n",
    "# Write code to calculate C = A * B                  #\n",
    "# (without using numpy librarlies e.g., numpy.dot()) #\n",
    "for i in range(n):\n",
    "    for j in range(n):\n",
    "        for k in range(n):\n",
    "            c[i, j] += a[i, k] * b[k, j]\n",
    "######################################################\n",
    "\n",
    "end = time.time()\n",
    "print(\"time: %.6f sec\" % (end - begin))\n",
    "\n",
    "# Print C for debugging. Comment out the print before measuring the execution time.\n",
    "total = 0\n",
    "for i in range(n):\n",
    "    for j in range(n):\n",
    "        # print c[i, j]\n",
    "        total += c[i, j]\n",
    "# Print out the sum of all values in C.\n",
    "# This should be 450 for N=3, 3680 for N=4, and 18250 for N=5.\n",
    "print(\"sum: %.6f\" % total)"
   ]
  },
  {
   "cell_type": "code",
   "execution_count": 2,
   "metadata": {},
   "outputs": [],
   "source": [
    "import numpy, sys, time"
   ]
  },
  {
   "cell_type": "code",
   "execution_count": 14,
   "metadata": {},
   "outputs": [],
   "source": [
    "n = 4\n",
    "a = numpy.zeros((n, n)) # Matrix A\n",
    "b = numpy.zeros((n, n)) # Matrix B\n",
    "c = numpy.zeros((n, n)) # Matrix C"
   ]
  },
  {
   "cell_type": "code",
   "execution_count": 15,
   "metadata": {},
   "outputs": [],
   "source": [
    "# Initialize the matrices to some values.\n",
    "for i in range(n):\n",
    "    for j in range(n):\n",
    "        a[i, j] = i * n + j\n",
    "        b[i, j] = j * n + i\n",
    "        c[i, j] = 0"
   ]
  },
  {
   "cell_type": "code",
   "execution_count": 16,
   "metadata": {},
   "outputs": [],
   "source": [
    "for i in range(n):\n",
    "    for j in range(n):\n",
    "        for k in range(n):\n",
    "            c[i, j] += a[i, k] * b[k, j]"
   ]
  },
  {
   "cell_type": "code",
   "execution_count": 17,
   "metadata": {},
   "outputs": [
    {
     "data": {
      "text/plain": [
       "array([[ 14.,  38.,  62.,  86.],\n",
       "       [ 38., 126., 214., 302.],\n",
       "       [ 62., 214., 366., 518.],\n",
       "       [ 86., 302., 518., 734.]])"
      ]
     },
     "execution_count": 17,
     "metadata": {},
     "output_type": "execute_result"
    }
   ],
   "source": [
    "c"
   ]
  },
  {
   "cell_type": "code",
   "execution_count": 18,
   "metadata": {},
   "outputs": [
    {
     "data": {
      "text/plain": [
       "array([[ 14.,  38.,  62.,  86.],\n",
       "       [ 38., 126., 214., 302.],\n",
       "       [ 62., 214., 366., 518.],\n",
       "       [ 86., 302., 518., 734.]])"
      ]
     },
     "execution_count": 18,
     "metadata": {},
     "output_type": "execute_result"
    }
   ],
   "source": [
    "numpy.dot(a,b)"
   ]
  },
  {
   "cell_type": "code",
   "execution_count": null,
   "metadata": {},
   "outputs": [],
   "source": []
  }
 ],
 "metadata": {
  "kernelspec": {
   "display_name": "Python 3",
   "language": "python",
   "name": "python3"
  },
  "language_info": {
   "codemirror_mode": {
    "name": "ipython",
    "version": 3
   },
   "file_extension": ".py",
   "mimetype": "text/x-python",
   "name": "python",
   "nbconvert_exporter": "python",
   "pygments_lexer": "ipython3",
   "version": "3.6.2"
  }
 },
 "nbformat": 4,
 "nbformat_minor": 2
}
