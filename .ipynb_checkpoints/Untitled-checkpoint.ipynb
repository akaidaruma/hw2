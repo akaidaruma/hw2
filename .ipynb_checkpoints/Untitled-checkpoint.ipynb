{
 "cells": [
  {
   "cell_type": "code",
   "execution_count": null,
   "metadata": {},
   "outputs": [],
   "source": [
    "import numpy, sys, time\n",
    "\n",
    "if (len(sys.argv) != 2):\n",
    "    print(\"usage: python %s N\" % sys.argv[0])\n",
    "    quit()\n",
    "\n",
    "n = int(sys.argv[1])\n",
    "a = numpy.zeros((n, n)) # Matrix A\n",
    "b = numpy.zeros((n, n)) # Matrix B\n",
    "c = numpy.zeros((n, n)) # Matrix C\n",
    "\n",
    "# Initialize the matrices to some values.\n",
    "for i in range(n):\n",
    "    for j in range(n):\n",
    "        a[i, j] = i * n + j\n",
    "        b[i, j] = j * n + i\n",
    "        c[i, j] = 0\n",
    "\n",
    "begin = time.time()\n",
    "\n",
    "######################################################\n",
    "# Write code to calculate C = A * B                  #\n",
    "# (without using numpy librarlies e.g., numpy.dot()) #\n",
    "######################################################\n",
    "\n",
    "end = time.time()\n",
    "print(\"time: %.6f sec\" % (end - begin))\n",
    "\n",
    "# Print C for debugging. Comment out the print before measuring the execution time.\n",
    "total = 0\n",
    "for i in range(n):\n",
    "    for j in range(n):\n",
    "        # print c[i, j]\n",
    "        total += c[i, j]\n",
    "# Print out the sum of all values in C.\n",
    "# This should be 450 for N=3, 3680 for N=4, and 18250 for N=5.\n",
    "print(\"sum: %.6f\" % total)"
   ]
  }
 ],
 "metadata": {
  "kernelspec": {
   "display_name": "Python 3",
   "language": "python",
   "name": "python3"
  },
  "language_info": {
   "codemirror_mode": {
    "name": "ipython",
    "version": 3
   },
   "file_extension": ".py",
   "mimetype": "text/x-python",
   "name": "python",
   "nbconvert_exporter": "python",
   "pygments_lexer": "ipython3",
   "version": "3.6.2"
  }
 },
 "nbformat": 4,
 "nbformat_minor": 2
}
